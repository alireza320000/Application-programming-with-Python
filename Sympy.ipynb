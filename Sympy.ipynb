{
 "cells": [
  {
   "cell_type": "code",
   "execution_count": 123,
   "id": "2d153576",
   "metadata": {},
   "outputs": [],
   "source": [
    "from sympy import*\n",
    "import sympy as sym\n",
    "import math"
   ]
  },
  {
   "cell_type": "code",
   "execution_count": 124,
   "id": "a87fddfb",
   "metadata": {},
   "outputs": [
    {
     "data": {
      "text/plain": [
       "3.4641016151377544"
      ]
     },
     "execution_count": 124,
     "metadata": {},
     "output_type": "execute_result"
    }
   ],
   "source": [
    "math.sqrt(12)"
   ]
  },
  {
   "cell_type": "code",
   "execution_count": 125,
   "id": "9db6b5ae",
   "metadata": {},
   "outputs": [
    {
     "data": {
      "text/latex": [
       "$\\displaystyle \\sqrt{x}$"
      ],
      "text/plain": [
       "sqrt(x)"
      ]
     },
     "execution_count": 125,
     "metadata": {},
     "output_type": "execute_result"
    }
   ],
   "source": [
    "x = symbols('x')\n",
    "sqrt( x)"
   ]
  },
  {
   "cell_type": "code",
   "execution_count": 126,
   "id": "7a38d4f7",
   "metadata": {},
   "outputs": [
    {
     "data": {
      "text/latex": [
       "$\\displaystyle \\sqrt{x} + \\int \\mu\\, dx = \\mu x + \\sqrt{x}$"
      ],
      "text/plain": [
       "Eq(sqrt(x) + Integral(mu, x), mu*x + sqrt(x))"
      ]
     },
     "execution_count": 126,
     "metadata": {},
     "output_type": "execute_result"
    }
   ],
   "source": [
    "x, mu = symbols(\"x mu\")\n",
    "expr = sqrt(x) + Integral(mu, x)\n",
    "Eq(expr,expr.doit())"
   ]
  },
  {
   "cell_type": "markdown",
   "id": "13ae91b9",
   "metadata": {},
   "source": [
    "# Basic Opertions\n",
    "\n",
    "\n",
    "\n",
    "# subtution\n",
    "\n",
    "\n",
    "\n",
    "\n",
    "# Convert string"
   ]
  },
  {
   "cell_type": "code",
   "execution_count": 127,
   "id": "d1ec1482",
   "metadata": {},
   "outputs": [
    {
     "data": {
      "text/latex": [
       "$\\displaystyle \\sin{\\left(x \\right)} + 2$"
      ],
      "text/plain": [
       "sin(x) + 2"
      ]
     },
     "execution_count": 127,
     "metadata": {},
     "output_type": "execute_result"
    }
   ],
   "source": [
    "x, y , z = symbols('x  y  z')\n",
    "expr = sin( x ) + 2\n",
    "expr"
   ]
  },
  {
   "cell_type": "code",
   "execution_count": 128,
   "id": "bd98d8f2",
   "metadata": {},
   "outputs": [
    {
     "data": {
      "text/latex": [
       "$\\displaystyle 2$"
      ],
      "text/plain": [
       "2"
      ]
     },
     "execution_count": 128,
     "metadata": {},
     "output_type": "execute_result"
    }
   ],
   "source": [
    "expr.subs(x,sym.pi)"
   ]
  },
  {
   "cell_type": "code",
   "execution_count": 129,
   "id": "85b0ca27",
   "metadata": {},
   "outputs": [
    {
     "data": {
      "text/latex": [
       "$\\displaystyle \\sin{\\left(1 \\right)} + 2$"
      ],
      "text/plain": [
       "sin(1) + 2"
      ]
     },
     "execution_count": 129,
     "metadata": {},
     "output_type": "execute_result"
    }
   ],
   "source": [
    "expr.subs(x,1)"
   ]
  },
  {
   "cell_type": "code",
   "execution_count": 130,
   "id": "4fe245ec",
   "metadata": {},
   "outputs": [],
   "source": [
    "expr =\"x**4 + x * y + sqrt(y*x)\"\n",
    "x=simplify(expr)"
   ]
  },
  {
   "cell_type": "code",
   "execution_count": 131,
   "id": "40eae199",
   "metadata": {},
   "outputs": [
    {
     "data": {
      "text/plain": [
       "'x^{4} + x y + \\\\sqrt{x y}'"
      ]
     },
     "execution_count": 131,
     "metadata": {},
     "output_type": "execute_result"
    }
   ],
   "source": [
    " latex(x)"
   ]
  },
  {
   "cell_type": "markdown",
   "id": "7b205e6b",
   "metadata": {},
   "source": [
    "$$'x^{4} + x y + \\\\sqrt{x y}'$$ "
   ]
  },
  {
   "cell_type": "markdown",
   "id": "24dd7339",
   "metadata": {},
   "source": [
    "# simplificiatation\n",
    "\n",
    "\n",
    "- simlify\n",
    "- factor\n",
    "- cansel"
   ]
  },
  {
   "cell_type": "code",
   "execution_count": 132,
   "id": "eda45b45",
   "metadata": {},
   "outputs": [],
   "source": [
    "x = symbols('x')"
   ]
  },
  {
   "cell_type": "code",
   "execution_count": 133,
   "id": "5dc26aed",
   "metadata": {},
   "outputs": [
    {
     "data": {
      "text/latex": [
       "$\\displaystyle \\frac{x^{5} + x^{3} - x - 1}{x^{5} + 5 x + 2}$"
      ],
      "text/plain": [
       "(x**5 + x**3 - x - 1)/(x**5 + 5*x + 2)"
      ]
     },
     "execution_count": 133,
     "metadata": {},
     "output_type": "execute_result"
    }
   ],
   "source": [
    "expr = ((x**5 + x**3-x-1)/(x**5+5*x+2))\n",
    "expr"
   ]
  },
  {
   "cell_type": "code",
   "execution_count": 134,
   "id": "5935b3d7",
   "metadata": {},
   "outputs": [
    {
     "data": {
      "text/latex": [
       "$\\displaystyle \\left(x - 1\\right) \\left(2 x^{4} + 2 x^{3} + 2 x^{2} + 2 x + 1\\right)$"
      ],
      "text/plain": [
       "(x - 1)*(2*x**4 + 2*x**3 + 2*x**2 + 2*x + 1)"
      ]
     },
     "execution_count": 134,
     "metadata": {},
     "output_type": "execute_result"
    }
   ],
   "source": [
    "factor((x**5 + x**5-x-1))"
   ]
  },
  {
   "cell_type": "code",
   "execution_count": 135,
   "id": "c313218d",
   "metadata": {},
   "outputs": [
    {
     "data": {
      "text/latex": [
       "$\\displaystyle x$"
      ],
      "text/plain": [
       "x"
      ]
     },
     "execution_count": 135,
     "metadata": {},
     "output_type": "execute_result"
    }
   ],
   "source": [
    "x"
   ]
  },
  {
   "cell_type": "code",
   "execution_count": 136,
   "id": "ced13623",
   "metadata": {},
   "outputs": [
    {
     "data": {
      "text/latex": [
       "$\\displaystyle \\sqrt{x^{5}}$"
      ],
      "text/plain": [
       "sqrt(x**5)"
      ]
     },
     "execution_count": 136,
     "metadata": {},
     "output_type": "execute_result"
    }
   ],
   "source": [
    "simplify(sqrt(x**5))"
   ]
  },
  {
   "cell_type": "code",
   "execution_count": 137,
   "id": "6e04df5f",
   "metadata": {},
   "outputs": [],
   "source": [
    "temp=expand((x-1)*(x+1)**5)"
   ]
  },
  {
   "cell_type": "code",
   "execution_count": 138,
   "id": "95d7c295",
   "metadata": {},
   "outputs": [
    {
     "data": {
      "text/latex": [
       "$\\displaystyle \\left(x - 1\\right) \\left(x + 1\\right)^{5}$"
      ],
      "text/plain": [
       "(x - 1)*(x + 1)**5"
      ]
     },
     "execution_count": 138,
     "metadata": {},
     "output_type": "execute_result"
    }
   ],
   "source": [
    "factor(temp)"
   ]
  },
  {
   "cell_type": "code",
   "execution_count": 139,
   "id": "1051d4f4",
   "metadata": {},
   "outputs": [
    {
     "data": {
      "text/latex": [
       "$\\displaystyle \\frac{\\left(x + 3\\right)^{5}}{\\left(x - 1\\right) \\left(x^{2} + x + 1\\right)}$"
      ],
      "text/plain": [
       "(x + 3)**5/((x - 1)*(x**2 + x + 1))"
      ]
     },
     "execution_count": 139,
     "metadata": {},
     "output_type": "execute_result"
    }
   ],
   "source": [
    "factor(cancel((x+3)**5/(x**3-1)))"
   ]
  },
  {
   "cell_type": "markdown",
   "id": "cee5dec1",
   "metadata": {},
   "source": [
    "# 3 Caclulus\n",
    "\n",
    "- Drivativees\n",
    "- integrals\n",
    "- limits"
   ]
  },
  {
   "cell_type": "code",
   "execution_count": 140,
   "id": "c799ff9e",
   "metadata": {},
   "outputs": [
    {
     "data": {
      "text/latex": [
       "$\\displaystyle \\sqrt{x} + x^{3}$"
      ],
      "text/plain": [
       "sqrt(x) + x**3"
      ]
     },
     "execution_count": 140,
     "metadata": {},
     "output_type": "execute_result"
    }
   ],
   "source": [
    "expr = x**3 + sqrt(x)\n",
    "expr"
   ]
  },
  {
   "cell_type": "code",
   "execution_count": 141,
   "id": "b2ef2e37",
   "metadata": {},
   "outputs": [
    {
     "data": {
      "text/latex": [
       "$\\displaystyle 3 x^{2} + \\frac{1}{2 \\sqrt{x}}$"
      ],
      "text/plain": [
       "3*x**2 + 1/(2*sqrt(x))"
      ]
     },
     "execution_count": 141,
     "metadata": {},
     "output_type": "execute_result"
    }
   ],
   "source": [
    "diff(expr, x)"
   ]
  },
  {
   "cell_type": "code",
   "execution_count": 142,
   "id": "74128ee0",
   "metadata": {},
   "outputs": [
    {
     "data": {
      "text/latex": [
       "$\\displaystyle e^{x y z}$"
      ],
      "text/plain": [
       "exp(x*y*z)"
      ]
     },
     "execution_count": 142,
     "metadata": {},
     "output_type": "execute_result"
    }
   ],
   "source": [
    "expr= exp(x*y*z)\n",
    "expr"
   ]
  },
  {
   "cell_type": "code",
   "execution_count": 143,
   "id": "b6545c3e",
   "metadata": {},
   "outputs": [
    {
     "data": {
      "text/latex": [
       "$\\displaystyle x y \\left(x^{2} y^{2} z^{2} + 5 x y z + 4\\right) e^{x y z}$"
      ],
      "text/plain": [
       "x*y*(x**2*y**2*z**2 + 5*x*y*z + 4)*exp(x*y*z)"
      ]
     },
     "execution_count": 143,
     "metadata": {},
     "output_type": "execute_result"
    }
   ],
   "source": [
    "diff(expr, x, z , z, y)"
   ]
  },
  {
   "cell_type": "code",
   "execution_count": 144,
   "id": "11e5c3a6",
   "metadata": {},
   "outputs": [
    {
     "data": {
      "text/latex": [
       "$\\displaystyle y^{3} z^{2} \\left(x y z + 3\\right) e^{x y z}$"
      ],
      "text/plain": [
       "y**3*z**2*(x*y*z + 3)*exp(x*y*z)"
      ]
     },
     "execution_count": 144,
     "metadata": {},
     "output_type": "execute_result"
    }
   ],
   "source": [
    "diff(expr, x,3,z)"
   ]
  },
  {
   "cell_type": "code",
   "execution_count": 145,
   "id": "4e98bf49",
   "metadata": {},
   "outputs": [],
   "source": [
    "expr = Derivative(exp(x*y*z),x,y)"
   ]
  },
  {
   "cell_type": "code",
   "execution_count": 146,
   "id": "20021ff5",
   "metadata": {},
   "outputs": [
    {
     "data": {
      "text/plain": [
       "'\\\\frac{\\\\partial^{2}}{\\\\partial y\\\\partial x} e^{x y z} = z \\\\left(x y z + 1\\\\right) e^{x y z}'"
      ]
     },
     "execution_count": 146,
     "metadata": {},
     "output_type": "execute_result"
    }
   ],
   "source": [
    "latex(Eq(expr,expr.doit()))"
   ]
  },
  {
   "cell_type": "markdown",
   "id": "d1d04466",
   "metadata": {},
   "source": [
    "$$'\\\\frac{\\\\partial^{2}}{\\\\partial y\\\\partial x} e^{x y z} = z \\\\left(x y z + 1\\\\right) e^{x y z}'$$"
   ]
  },
  {
   "cell_type": "code",
   "execution_count": 147,
   "id": "e9fe64aa",
   "metadata": {},
   "outputs": [
    {
     "data": {
      "text/latex": [
       "$\\displaystyle \\frac{x^{5}}{5}$"
      ],
      "text/plain": [
       "x**5/5"
      ]
     },
     "execution_count": 147,
     "metadata": {},
     "output_type": "execute_result"
    }
   ],
   "source": [
    "integrate(x**4,x)"
   ]
  },
  {
   "cell_type": "code",
   "execution_count": 148,
   "id": "16a7bc1b",
   "metadata": {},
   "outputs": [
    {
     "data": {
      "text/latex": [
       "$\\displaystyle \\frac{243}{5}$"
      ],
      "text/plain": [
       "243/5"
      ]
     },
     "execution_count": 148,
     "metadata": {},
     "output_type": "execute_result"
    }
   ],
   "source": [
    "Integral(x**4, x).doit().subs(x,3)"
   ]
  },
  {
   "cell_type": "code",
   "execution_count": 149,
   "id": "e393b83d",
   "metadata": {},
   "outputs": [
    {
     "data": {
      "text/latex": [
       "$\\displaystyle \\lim_{x \\to 4^+}\\left(\\frac{2}{x}\\right) = \\frac{1}{2}$"
      ],
      "text/plain": [
       "Eq(Limit(2/x, x, 4), 1/2)"
      ]
     },
     "execution_count": 149,
     "metadata": {},
     "output_type": "execute_result"
    }
   ],
   "source": [
    "expr=Limit(2/x, x,4, '+')\n",
    "Eq(expr,expr.doit())"
   ]
  },
  {
   "cell_type": "code",
   "execution_count": 150,
   "id": "46bd4a89",
   "metadata": {},
   "outputs": [
    {
     "data": {
      "text/latex": [
       "$\\displaystyle \\left\\{- \\sqrt[3]{5}, \\frac{\\sqrt[3]{5}}{2} - \\frac{\\sqrt{3} \\sqrt[3]{5} i}{2}, \\frac{\\sqrt[3]{5}}{2} + \\frac{\\sqrt{3} \\sqrt[3]{5} i}{2}\\right\\}$"
      ],
      "text/plain": [
       "FiniteSet(-5**(1/3), 5**(1/3)/2 - sqrt(3)*5**(1/3)*I/2, 5**(1/3)/2 + sqrt(3)*5**(1/3)*I/2)"
      ]
     },
     "execution_count": 150,
     "metadata": {},
     "output_type": "execute_result"
    }
   ],
   "source": [
    "solveset(Eq(x**3,-5),x)"
   ]
  },
  {
   "cell_type": "code",
   "execution_count": 151,
   "id": "09f75ef7",
   "metadata": {},
   "outputs": [
    {
     "data": {
      "text/plain": [
       "'\\\\lim_{x \\\\to 4^+}\\\\left(\\\\frac{2}{x}\\\\right) = \\\\frac{1}{2}'"
      ]
     },
     "execution_count": 151,
     "metadata": {},
     "output_type": "execute_result"
    }
   ],
   "source": [
    "latex(Eq(expr,expr.doit()))"
   ]
  },
  {
   "cell_type": "markdown",
   "id": "c36f75cd",
   "metadata": {},
   "source": [
    "$$'\\\\lim_{x \\\\to 4^+}\\\\left(\\\\frac{2}{x}\\\\right) = \\\\frac{{2}1$$'\n"
   ]
  },
  {
   "cell_type": "code",
   "execution_count": null,
   "id": "9903a53e",
   "metadata": {},
   "outputs": [],
   "source": []
  }
 ],
 "metadata": {
  "kernelspec": {
   "display_name": "Python 3",
   "language": "python",
   "name": "python3"
  },
  "language_info": {
   "codemirror_mode": {
    "name": "ipython",
    "version": 3
   },
   "file_extension": ".py",
   "mimetype": "text/x-python",
   "name": "python",
   "nbconvert_exporter": "python",
   "pygments_lexer": "ipython3",
   "version": "3.8.8"
  }
 },
 "nbformat": 4,
 "nbformat_minor": 5
}
