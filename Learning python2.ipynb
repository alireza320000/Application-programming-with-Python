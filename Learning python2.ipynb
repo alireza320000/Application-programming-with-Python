{
 "cells": [
  {
   "cell_type": "markdown",
   "id": "70aa8c64",
   "metadata": {},
   "source": [
    "# Each list is a number with different data elements"
   ]
  },
  {
   "cell_type": "code",
   "execution_count": 3,
   "id": "25c6f2fe",
   "metadata": {},
   "outputs": [
    {
     "data": {
      "text/plain": [
       "[1, 'exmple', 5.45]"
      ]
     },
     "execution_count": 3,
     "metadata": {},
     "output_type": "execute_result"
    }
   ],
   "source": [
    "my_list = [1,'exmple',5.45]\n",
    "my_list"
   ]
  },
  {
   "cell_type": "markdown",
   "id": "2a390132",
   "metadata": {},
   "source": [
    "# In addition, a list can contain another\n",
    "\n",
    "# element. Such a list is known as a nested list."
   ]
  },
  {
   "cell_type": "code",
   "execution_count": 4,
   "id": "0c69e74e",
   "metadata": {},
   "outputs": [
    {
     "data": {
      "text/plain": [
       "[5, [1, 'exmple', 5.45], 'data sientist', ['example', 1]]"
      ]
     },
     "execution_count": 4,
     "metadata": {},
     "output_type": "execute_result"
    }
   ],
   "source": [
    "my_list1 = [1.56, 'python']\n",
    "my_list2 = ['example', 1]\n",
    "my_list = [5, my_list,'data sientist', my_list2]\n",
    "my_list"
   ]
  },
  {
   "cell_type": "markdown",
   "id": "fa57e2d1",
   "metadata": {},
   "source": [
    "# Adding elements to a list is available in Python (append (), exten (), insert (),\n",
    "\n",
    "\n",
    "\n",
    "The append function, () = adds all the transferred elements as a single element\n",
    "\n",
    "\n",
    "Exten () = function adds elements to the list one by one\n",
    "The insert () function = adds an element to a specified index"
   ]
  },
  {
   "cell_type": "code",
   "execution_count": 5,
   "id": "d7b42c26",
   "metadata": {},
   "outputs": [
    {
     "data": {
      "text/plain": [
       "[7, 2, 1]"
      ]
     },
     "execution_count": 5,
     "metadata": {},
     "output_type": "execute_result"
    }
   ],
   "source": [
    "my_list = [7, 2, 1]\n",
    "my_list"
   ]
  },
  {
   "cell_type": "code",
   "execution_count": 6,
   "id": "3b83d376",
   "metadata": {},
   "outputs": [
    {
     "data": {
      "text/plain": [
       "[7, 2, 1, [44, 15, 'python']]"
      ]
     },
     "execution_count": 6,
     "metadata": {},
     "output_type": "execute_result"
    }
   ],
   "source": [
    "my_list.append([44,15, 'python'])\n",
    "my_list"
   ]
  },
  {
   "cell_type": "code",
   "execution_count": 7,
   "id": "e7fe6888",
   "metadata": {},
   "outputs": [
    {
     "data": {
      "text/plain": [
       "[7, 2, 1, [44, 15, 'python'], 'example', 2]"
      ]
     },
     "execution_count": 7,
     "metadata": {},
     "output_type": "execute_result"
    }
   ],
   "source": [
    "my_list.extend(['example',2])\n",
    "my_list"
   ]
  },
  {
   "cell_type": "code",
   "execution_count": 8,
   "id": "b05ae961",
   "metadata": {},
   "outputs": [
    {
     "data": {
      "text/plain": [
       "[7,\n",
       " 'insert_example1',\n",
       " 2,\n",
       " 1,\n",
       " [44, 15, 'python'],\n",
       " 'example',\n",
       " 'insert_example2',\n",
       " 2]"
      ]
     },
     "execution_count": 8,
     "metadata": {},
     "output_type": "execute_result"
    }
   ],
   "source": [
    "my_list.insert(1, 'insert_example1')\n",
    "my_list.insert(6, 'insert_example2')\n",
    "my_list"
   ]
  },
  {
   "cell_type": "markdown",
   "id": "7312af69",
   "metadata": {},
   "source": [
    "# Removing an element from a list in\n",
    "\n",
    "# Python can be achieved using the \n",
    "\n",
    "# clear (), pop () (), remove, () delite function\n",
    "\n",
    "\n",
    "\n",
    "Using the clear () function removes all elements of a list\n",
    "The pop () function also displays an element based on the array and its value\n",
    "\n",
    "\n",
    "Using the delite () function, the elements of an index and the last index can be -1"
   ]
  },
  {
   "cell_type": "code",
   "execution_count": 9,
   "id": "5e60d867",
   "metadata": {},
   "outputs": [
    {
     "data": {
      "text/plain": [
       "[0, 1, 2, 3, 4, 5, 6, 7, 8, 9]"
      ]
     },
     "execution_count": 9,
     "metadata": {},
     "output_type": "execute_result"
    }
   ],
   "source": [
    "my_list = [0, 1, 2, 3, 4, 5, 6, 7, 8, 9]\n",
    "my_list\n"
   ]
  },
  {
   "cell_type": "code",
   "execution_count": 10,
   "id": "3306843c",
   "metadata": {},
   "outputs": [],
   "source": [
    "my_list.clear()"
   ]
  },
  {
   "cell_type": "code",
   "execution_count": 11,
   "id": "7d2b3cf7",
   "metadata": {},
   "outputs": [
    {
     "data": {
      "text/plain": [
       "8"
      ]
     },
     "execution_count": 11,
     "metadata": {},
     "output_type": "execute_result"
    }
   ],
   "source": [
    "my_list = [8, 3, 7, 9, 1]\n",
    "my_list.pop(0)"
   ]
  },
  {
   "cell_type": "code",
   "execution_count": 12,
   "id": "7f7ca1bf",
   "metadata": {},
   "outputs": [
    {
     "data": {
      "text/plain": [
       "2"
      ]
     },
     "execution_count": 12,
     "metadata": {},
     "output_type": "execute_result"
    }
   ],
   "source": [
    "my_list = [8, 2, 3, 7, 9, 1]\n",
    "my_list.pop(1)"
   ]
  },
  {
   "cell_type": "code",
   "execution_count": 13,
   "id": "6c256df0",
   "metadata": {},
   "outputs": [
    {
     "data": {
      "text/plain": [
       "1"
      ]
     },
     "execution_count": 13,
     "metadata": {},
     "output_type": "execute_result"
    }
   ],
   "source": [
    "my_list.pop(4)"
   ]
  },
  {
   "cell_type": "code",
   "execution_count": 14,
   "id": "9ff90882",
   "metadata": {},
   "outputs": [
    {
     "data": {
      "text/plain": [
       "5"
      ]
     },
     "execution_count": 14,
     "metadata": {},
     "output_type": "execute_result"
    }
   ],
   "source": [
    "my_list = [12, 1, 5, 2, 4]\n",
    "my_list.pop(-3)"
   ]
  },
  {
   "cell_type": "code",
   "execution_count": 15,
   "id": "83c28ebf",
   "metadata": {},
   "outputs": [
    {
     "name": "stdout",
     "output_type": "stream",
     "text": [
      "[1, 2, 3, 4, 5, 6, 7, 8, 9]\n",
      "[2, 4, 6, 8, 10, 12, 14, 16, 18]\n",
      "['A', 'L', 'I', 'R', 'E', 'Z', 'A']\n",
      "----------------------\n",
      "[2, 4, 6, 8]\n",
      "[1, 3, 5, 7, 9]\n",
      "[3, 4, 9, 8, 15, 12, 21, 16, 27]\n"
     ]
    }
   ],
   "source": [
    "myNumbers = [1, 2, 3, 4, 5, 6, 7, 8, 9 ]\n",
    "\n",
    "# doubled_numbers = []\n",
    "\n",
    "# for num in myNumbers:\n",
    "#     doubled_numbers.append(num*2)\n",
    "doubled_numbers = [num * 2 for num in myNumbers]\n",
    "\n",
    "print(myNumbers)\n",
    "print(doubled_numbers)\n",
    "\n",
    "myName = \"Alireza\"\n",
    "\n",
    "namescharacters = [char.upper() for char in myName]\n",
    "print(namescharacters)\n",
    "\n",
    "print(\"----------------------\")\n",
    "\n",
    "even = [num for num in myNumbers if num % 2 == 0]\n",
    "odd = [num for num in myNumbers if num % 2!= 0]\n",
    "\n",
    "\n",
    "print(even)\n",
    "print(odd)\n",
    "\n",
    "newlist = [num * 2 if num % 2 == 0 else num * 3 for num in myNumbers]\n",
    "print(newlist)\n"
   ]
  },
  {
   "cell_type": "code",
   "execution_count": 16,
   "id": "df464bdd",
   "metadata": {},
   "outputs": [
    {
     "name": "stdout",
     "output_type": "stream",
     "text": [
      "1\n",
      "2\n",
      "3\n",
      "4\n",
      "5\n",
      "6\n",
      "[[None, None, None], [None, None, None]]\n",
      "[1, 2, 3]\n",
      "[['O', 'X', 'O'], ['O', 'X', 'O'], ['O', 'X', 'O']]\n"
     ]
    }
   ],
   "source": [
    "#nested list\n",
    "\n",
    "numbersList =[1, 2, 3, 4, 5, 6]\n",
    "\n",
    "newNumbers = [[1, 2, 3],[4, 5,6]]\n",
    "\n",
    "# index_1 = newNumbers[1] #[4, 5, 6]\n",
    "\n",
    "# number_6 = index_1[2]\n",
    "\n",
    "# number = newNumbers[1][2] #6\n",
    "\n",
    "# print(number)\n",
    "\n",
    "# print(\"---------------------\")\n",
    "\n",
    "# for li in newNumbers:\n",
    "#     for num in li:\n",
    "\n",
    "#         print(num)\n",
    "\n",
    "\n",
    "# print('---------------------')\n",
    "\n",
    "copyList = [[print(l)for l in li] for li in newNumbers]\n",
    "\n",
    "print(copyList)\n",
    "generatadList = [num for num in range(1 , 4)]\n",
    "\n",
    "generatedNestedList = [\n",
    "\n",
    "    ['X' if newNum % 2 == 0 else 'O' for newNum  in range(1, 4)]for Num in range(1, 4)]\n",
    "\n",
    "print(generatadList)\n",
    "print(generatedNestedList)"
   ]
  },
  {
   "cell_type": "code",
   "execution_count": 17,
   "id": "fd89ab5a",
   "metadata": {},
   "outputs": [
    {
     "name": "stdout",
     "output_type": "stream",
     "text": [
      "name alireza\n",
      "family ghanbari\n",
      "age 33\n"
     ]
    }
   ],
   "source": [
    "# # List\n",
    "# myNumbers = [1, 2, 3, 4, 5, 6]\n",
    "\n",
    "# names = [\"alireza\", \"milad\", \"bahman\"]\n",
    "\n",
    "# test = [\"Python\", \"Tru\",5, [4, 5, 6]]\n",
    "\n",
    " # dictionary = {\n",
    " # key value\n",
    " # }\n",
    "\n",
    "# mytDictionary = {\n",
    "#  \"name\" : \"Item\", \n",
    "# \"conut\" : 3,\n",
    "# \"price\": 2500,\n",
    "# 3: \"test\"\n",
    "# }\n",
    "\n",
    "# myshoppingcart = [\n",
    "#     {\"name\":\"Python\",\"price\":\"free\"},\n",
    "#     {\"name\" :\"kotlin\", \"price\": 2500}\n",
    "# ]\n",
    "\n",
    "# mytDictionary_2 = dict(name = \"newDictionary\" ,age=33) \n",
    "# print(mytDictionary)\n",
    "# print('------------------------------------')\n",
    "# print(mytDictionary_2)\n",
    "\n",
    "\n",
    "\n",
    "# print(mytDictionary_2[\"name\"])\n",
    "\n",
    "me = {\n",
    "    \"name\" : \"alireza\",\n",
    "    \"family\" :\"ghanbari\",\n",
    "    \"age\" : 33\n",
    "}\n",
    "\n",
    "#     print(me[\"name\"])\n",
    "#     print(me[\"name\"])\n",
    "#      print(me[\"name\"])\n",
    " \n",
    "\n",
    "\n",
    "# print(me.values())\n",
    "# # print(me.keys())\n",
    "\n",
    "\n",
    "# for key in me.keys():\n",
    "#     print(me[key])\n",
    "\n",
    "\n",
    "for key , value in me.items():\n",
    "    print(key , value)"
   ]
  },
  {
   "cell_type": "code",
   "execution_count": 18,
   "id": "8214a9e1",
   "metadata": {},
   "outputs": [
    {
     "name": "stdout",
     "output_type": "stream",
     "text": [
      "True\n"
     ]
    }
   ],
   "source": [
    "me = {\n",
    "    \"name\" : \"alireza\",\n",
    "    \"family\" :\"ghanbari\",\n",
    "    \"age\" : 33,\n",
    "     \"email\" : \"ghanbarialireza770@gmal.com\"\n",
    "}    \n",
    "   \n",
    "# print(me[\"email\"])\n",
    "\n",
    "# isExist = \"name\" in me\n",
    "\n",
    "# if \"email\" in me :\n",
    "#     print(me[\"email\"])\n",
    "# else:\n",
    "#     print(\"there is no email key in me\")\n",
    "\n",
    "\n",
    "isNameExist = \"alireza\" in me.values()\n",
    "print(isNameExist)"
   ]
  },
  {
   "cell_type": "code",
   "execution_count": 19,
   "id": "86c823ee",
   "metadata": {},
   "outputs": [
    {
     "name": "stdout",
     "output_type": "stream",
     "text": [
      "{'name': 'unknown', 'family': 'unknown', 'phone': 'unknown', 'email': 'unknown'}\n",
      "None\n",
      "True\n"
     ]
    }
   ],
   "source": [
    "me = {\n",
    "    \"name\" : \"alireza\",\n",
    "    \"family\" :\"ghanbari\",\n",
    "    \"age\" : 33,\n",
    "     \"email\" : \"ghanbarialireza770@gmal.com\"\n",
    "}    \n",
    "   \n",
    "# print(me)\n",
    "# me.clear()\n",
    "# print(me)\n",
    "\n",
    "# copy_me = me.copy()\n",
    "# print(me)\n",
    "# print(copy_me)\n",
    "\n",
    "# print(me==copy_me)\n",
    "# print(me is copy_me)\n",
    "\n",
    "\n",
    "\n",
    "#generate defualt value\n",
    "\n",
    "# # newuser ={\"name\" :\"unknown\", \"family\" : \"unknown\"}\n",
    "newuser_2 = dict.fromkeys([\"name\", \"family\", \"phone\", \"email\"],\"unknown\")\n",
    "print(newuser_2)\n",
    "\n",
    "\n",
    "# get\n",
    "\n",
    "\n",
    "#print(me[\"phone\"])\n",
    "\n",
    "print(me.get(\"phone\"))\n",
    "\n",
    "isphoneExist = me.get(\"phone\")\n",
    "\n",
    "print(isphoneExist is None)\n",
    "\n",
    "#if \"phone\" in me :\n",
    "     #print(\"isexist\")\n"
   ]
  },
  {
   "cell_type": "code",
   "execution_count": 20,
   "id": "f1b715b4",
   "metadata": {},
   "outputs": [
    {
     "name": "stdout",
     "output_type": "stream",
     "text": [
      "(1, 2)\n"
     ]
    }
   ],
   "source": [
    "# tupel\n",
    "\n",
    "listNumbers = [1, 2, 3, 4, 5]\n",
    "\n",
    "tupleNumbers = (1, 2, 3, 4, 5, 2, (4, 5, 3,),3 , 3)  # immutable list=>  غیرتغیرق\n",
    "\n",
    "#print(3 in tupleNumbers)\n",
    "\n",
    "# newTuple = tuple([1, 2, 3, 4, 5])\n",
    "# print(newTuple)\n",
    "\n",
    "\n",
    "locations = {\n",
    "    (35.67, 45.87): \"Tehran\",\n",
    "    (40.30, 69.92): \"Arak\"\n",
    "}\n",
    "\n",
    "#print(locations[(40.30, 69.92)])\n",
    "\n",
    "# for num in tupleNumbers :\n",
    "#     print(num)\n",
    "\n",
    "#print(tupleNumbers.count(3))\n",
    "\n",
    "#print(tupleNumbers[6][1])\n",
    "\n",
    "print(tupleNumbers[0:2])"
   ]
  },
  {
   "cell_type": "code",
   "execution_count": 21,
   "id": "c2e2de79",
   "metadata": {},
   "outputs": [
    {
     "name": "stdout",
     "output_type": "stream",
     "text": [
      "True\n",
      "{1, 2, 3, 5, 7, 'z', 't'}\n",
      "1\n",
      "2\n",
      "3\n",
      "5\n",
      "7\n",
      "z\n",
      "t\n",
      "{'ionic', 'python', 'vuejs', 'kotlin'}\n",
      "[1, 2, 3, 5, 7, 'z', 't']\n",
      "False\n",
      "{1, 3}\n",
      "set()\n",
      "{'mohammad', 'ahmad', 'ali', 'reza', 'sara', 'milad'}\n",
      "{'ali', 'mohammad'}\n",
      "{'r', 'o', 'l', 'w', ' ', 'h', 'e', 'd'}\n"
     ]
    }
   ],
   "source": [
    "# set{}\n",
    "numbers = {1, 2, 3, 4, 4, 4, 4, 4, 2, 2, 5}\n",
    "numbers_2 = {3, 5, 't', 'z', 2, 7, 1, 1, 1, 5, 5, 5, 5}\n",
    "print(4 in numbers)\n",
    "\n",
    "print(numbers_2)\n",
    "\n",
    "for item in numbers_2 :\n",
    "    print(item)\n",
    "\n",
    "\n",
    "courses =[\"kotlin\",\"vuejs\",\"python\",\"ionic\"]\n",
    "\n",
    "\n",
    "courses_set = set(courses)\n",
    "\n",
    "\n",
    "print(courses_set)\n",
    "print(list(numbers_2))\n",
    "\n",
    "numbers = {1, 2, 3, 4}\n",
    "numbers.add(4)\n",
    "numbers.remove(2)\n",
    "if 4 in numbers :\n",
    "    numbers.remove(4)\n",
    "\n",
    "numbers.discard(4)\n",
    "copyNumbers = numbers.copy()\n",
    "\n",
    "\n",
    "print(numbers is copyNumbers)\n",
    "\n",
    "print(copyNumbers)\n",
    "numbers.clear()\n",
    "\n",
    "print(numbers)\n",
    "\n",
    "python = {\"ali\", \"milad\", \"mohammad\", \"sara\"}\n",
    "\n",
    "kotlin = {\"mohammad\", \"ahmad\", \"reza\", \"ali\"}\n",
    "\n",
    "print(python | kotlin)\n",
    "\n",
    "print(python & kotlin)\n",
    "\n",
    "newset = {x**2 for x in range(10)}\n",
    "\n",
    "characters = {char for char in \"hello world\"}\n",
    "\n",
    "print(characters)\n"
   ]
  },
  {
   "cell_type": "code",
   "execution_count": 22,
   "id": "e83e529a",
   "metadata": {},
   "outputs": [
    {
     "name": "stdout",
     "output_type": "stream",
     "text": [
      "[1, 2, 3, 4, 5, 6]\n",
      "hello\n",
      "how are you?\n",
      "----------------\n",
      "hello\n",
      "how are you?\n",
      "----------------\n",
      "hello\n",
      "how are you?\n",
      "----------------\n",
      "hello\n",
      "how are you?\n",
      "----------------\n"
     ]
    }
   ],
   "source": [
    "# what is a function\n",
    "\n",
    "numbers = [1, 2, 3, 4, 5]\n",
    "numbers.append(6)\n",
    "\n",
    "\n",
    "print(numbers)\n",
    "\n",
    "\n",
    "def oFunction():\n",
    "     command\n",
    "\n",
    "def sayHello():\n",
    "    print(\"hello\")\n",
    "    print(\"how are you?\")\n",
    "    print(\"----------------\")\n",
    "\n",
    "\n",
    "sayHello()\n",
    "sayHello()\n",
    "sayHello()\n",
    "sayHello()"
   ]
  },
  {
   "cell_type": "code",
   "execution_count": 23,
   "id": "395df38a",
   "metadata": {},
   "outputs": [
    {
     "name": "stdout",
     "output_type": "stream",
     "text": [
      "java Course\n",
      "Csharp Course\n",
      "21\n",
      "False\n"
     ]
    }
   ],
   "source": [
    "# project ditonary\n",
    "cours = {\n",
    "    \"title\" : \"python Course\",\n",
    "    \"teacher\": \"Mohammad ordokhani\",\n",
    "    \"Time\": 8.5,\n",
    "    \"videoCount\" : 30,\n",
    "    \"tags\" : [\"python\", \"online Course\", \"free python Course\"],\n",
    "    \"shortLink\" : \"toplearn.com/c/o273\",\n",
    "    \"sessions\": [\n",
    "        {\n",
    "            \"title\" : \"session-1\",\n",
    "            \"time\" : 5\n",
    "        },\n",
    "        {\n",
    "            \"title\" : \"session-2\",\n",
    "            \"time\" : 7\n",
    "        },\n",
    "        {\n",
    "            \"title\" : \"session-3\",\n",
    "            \"time\" : 9\n",
    "        }\n",
    "    ],\n",
    "    \"relatedCourses\" :[\n",
    "        {\n",
    "           \"title\" : \"java Course\",\n",
    "            \"teacher\": \"Mohammad Ghari\",\n",
    "            \"Time\": 20,\n",
    "            \"videoCount\" : 42,\n",
    "            \"tags\" : [\"csharp\", \"online Course\", \"free csharp Course\"],\n",
    "            \"shortlink\" : \"toplearn.com/c/82m\",\n",
    "        },\n",
    "        {   \n",
    "            \"title\" : \"Csharp Course\",\n",
    "            \"teacher\":\"Iman Mdaeny\",\n",
    "            \"Time\": 10,\n",
    "            \"videoCount\" : 22,\n",
    "            \"tags\" : [\"csharp\", \"online Course\", \"free csharp Course\"],\n",
    "            \"shortlink\" : \"toplearn.com/c/MZO\",\n",
    "        }\n",
    "    ]\n",
    "}\n",
    "\n",
    "\n",
    "for related in cours[\"relatedCourses\"]:\n",
    "    print(related[\"title\"])\n",
    "\n",
    "total_time = 0\n",
    "\n",
    "for session in cours[\"sessions\"]:\n",
    "        total_time += session[\"time\"]\n",
    "\n",
    "print(total_time)\n",
    "\n",
    "isExist = \"relatedcourses\" in cours\n",
    "print(isExist)"
   ]
  },
  {
   "cell_type": "code",
   "execution_count": 24,
   "id": "dc96b742",
   "metadata": {},
   "outputs": [
    {
     "name": "stdout",
     "output_type": "stream",
     "text": [
      "True\n",
      "dict_items([('name', 'aliorerza')])\n",
      "(1, 2, 3, 4, 5)\n",
      "Tehran\n",
      "1\n",
      "2\n",
      "3\n",
      "4\n",
      "5\n",
      "0\n"
     ]
    }
   ],
   "source": [
    "listNumbers = [1, 2, 3, 4, 5]\n",
    "\n",
    "tupleNumbers = (1, 2, 3, 4, 5)  # immutable list =\n",
    "\n",
    "print(3 in tupleNumbers)\n",
    "\n",
    "prson={\n",
    " \"name\" : \"aliorerza\"\n",
    " }\n",
    "\n",
    "print(prson.items())\n",
    "\n",
    "newTuple = tuple([1, 2, 3, 4, 5])\n",
    "print(newTuple)\n",
    "\n",
    "Locations = {\n",
    "    (35.67, 45.87): \"Tehran\",\n",
    "    (40.30, 69.92) : \"Arak\"\n",
    "    }\n",
    "\n",
    "print(Locations[(35.67, 45.87)])\n",
    "\n",
    "for num in tupleNumbers :\n",
    "    print(num)\n",
    "\n",
    "print(tupleNumbers.count(6))\n"
   ]
  },
  {
   "cell_type": "code",
   "execution_count": 25,
   "id": "f4c03b87",
   "metadata": {},
   "outputs": [
    {
     "name": "stdout",
     "output_type": "stream",
     "text": [
      "False\n",
      "True\n",
      "True\n",
      "[True, True, True, True]\n"
     ]
    }
   ],
   "source": [
    "# filter\n",
    "print(all([0, 2, 3, 4 ]))\n",
    "\n",
    "print(all([]))\n",
    "\n",
    "numbers = [2, 4, 6, 8]\n",
    "\n",
    "print(all([num % 2 == 0 for num in numbers]))\n",
    "\n",
    "print([num % 2 == 0 for num in numbers])\n"
   ]
  },
  {
   "cell_type": "code",
   "execution_count": 26,
   "id": "de867cad",
   "metadata": {},
   "outputs": [
    {
     "name": "stdout",
     "output_type": "stream",
     "text": [
      "True\n"
     ]
    }
   ],
   "source": [
    "numbers = [2, 4, 6, 7]\n",
    "\n",
    "results = [False, False, False, True]\n",
    "\n",
    "print(any([num % 2 != 0 for num in numbers]))\n"
   ]
  },
  {
   "cell_type": "code",
   "execution_count": 27,
   "id": "321d08f5",
   "metadata": {},
   "outputs": [
    {
     "name": "stdout",
     "output_type": "stream",
     "text": [
      "[2, 4, 6]\n",
      "3\n",
      "[{'name': 'mohammad', 'shopCart': []}, {'name': 'iman', 'shopCart': []}]\n",
      "['mohammad', 'iman']\n",
      "['mohammad', 'iman']\n"
     ]
    }
   ],
   "source": [
    "# filter()\n",
    "\n",
    "numbers = [1, 2, 3, 4, 5, 6]\n",
    "\n",
    "evens = filter(lambda num: num % 2 == 0, numbers)\n",
    "\n",
    "print(list(evens))\n",
    "\n",
    "\n",
    "users = [\n",
    "    {'name': 'mohammad', 'shopCart': []},\n",
    "    {'name': 'sara', 'shopCart': ['kotlin', 'vue']},\n",
    "    {'name': 'iman', 'shopCart': []},\n",
    "]\n",
    "\n",
    "print(len(users))\n",
    "\n",
    "# result = filter(lambda user:len(user['shopCart'])==0,users)\n",
    "result = filter(lambda user: not (user['shopCart']), users)\n",
    "# این دولاین هردویکی هستن\n",
    "print(list(result))\n",
    "\n",
    "\n",
    "result2 = map(lambda user: user['name'],\n",
    "              filter(lambda user: not user['shopCart'], users)\n",
    "              )\n",
    "\n",
    "print(list(result2))\n",
    "\n",
    "result3 = [user['name'] for user in users if len(user ['shopCart'])==0]\n",
    "\n",
    "print(result3)"
   ]
  },
  {
   "cell_type": "code",
   "execution_count": 28,
   "id": "41846243",
   "metadata": {},
   "outputs": [
    {
     "name": "stdout",
     "output_type": "stream",
     "text": [
      "36\n",
      "square\n"
     ]
    }
   ],
   "source": [
    "def square(num): return num * num\n",
    "\n",
    "\n",
    "print(square(6))\n",
    "\n",
    "myFunction = lambda num : num * num\n",
    "\n",
    "# print(myFunction(6))\n",
    "\n",
    "def sum(first, second):return first + second\n",
    "\n",
    "# print(sum(4, 7))\n",
    "\n",
    "sum2 = lambda first, second:first + second \n",
    "\n",
    "# print(sum2(4, 8))\n",
    "\n",
    "print(square.__name__)"
   ]
  },
  {
   "cell_type": "code",
   "execution_count": 29,
   "id": "5c915d84",
   "metadata": {},
   "outputs": [
    {
     "name": "stdout",
     "output_type": "stream",
     "text": [
      "5\n"
     ]
    }
   ],
   "source": [
    "# absolute value\n",
    "\n",
    "number = -5\n",
    "\n",
    "print(abs(number))\n"
   ]
  },
  {
   "cell_type": "code",
   "execution_count": 30,
   "id": "be6f2fb7",
   "metadata": {},
   "outputs": [
    {
     "name": "stdout",
     "output_type": "stream",
     "text": [
      "7\n",
      "7\n"
     ]
    }
   ],
   "source": [
    "# len\n",
    "data = \"mohammad\"\n",
    "data = [1, 2, 3, 4, 5]\n",
    "data = (3, 4, 5, 6, 7, 8, 9)\n",
    "\n",
    "print(len(data))\n",
    "print(data.__len__())\n",
    "\n",
    "\n",
    "# class MyList:\n",
    "#     def __init__(self, data):\n",
    "#          self._data = data\n",
    "\n",
    "#     def __len__(self):\n",
    "#         return 50\n",
    "\n",
    "\n",
    "# test = MyList([23, 4, 5, 6, 7, 4, 3])\n",
    "\n",
    "# print(len(test))\n"
   ]
  },
  {
   "cell_type": "code",
   "execution_count": 31,
   "id": "da689e25",
   "metadata": {},
   "outputs": [
    {
     "name": "stdout",
     "output_type": "stream",
     "text": [
      "4.537\n"
     ]
    }
   ],
   "source": [
    "# round\n",
    "number = 4.537\n",
    "\n",
    "print(round(number, 5))"
   ]
  },
  {
   "cell_type": "code",
   "execution_count": 1,
   "id": "8cf61fa7",
   "metadata": {},
   "outputs": [
    {
     "name": "stdout",
     "output_type": "stream",
     "text": [
      "16\n"
     ]
    }
   ],
   "source": [
    "numbers = [1, 2, 3]\n",
    "\n",
    "numbers = (1, 2, 3)\n",
    "\n",
    "print(sum(numbers, 10))"
   ]
  },
  {
   "cell_type": "code",
   "execution_count": 6,
   "id": "75b36f83",
   "metadata": {},
   "outputs": [
    {
     "name": "stdout",
     "output_type": "stream",
     "text": [
      "['python', 'kotlin', 'Ionic', 'kotlin']\n"
     ]
    }
   ],
   "source": [
    "myCourses = [\"python\", \"kotlin\", \"Ionic\", \"kotlin\"]\n",
    "\n",
    "# clear () => remove all elments\n",
    "\n",
    "print(myCourses)\n",
    "\n",
    "myCourses.clear()\n",
    "\n",
    "# print(myCourses)\n",
    "\n",
    "#pop()\n",
    "\n",
    "\n",
    "\n",
    "\n",
    "# print(myCourses)\n",
    "\n",
    "\n",
    "\n",
    "# last_item  = myCourses.pop()\n",
    "# first_item = myCourses.pop(0)\n",
    "# print(myCourses)\n",
    "\n",
    "# print(f'first item is : {first_item}')\n",
    "# print(f'last item is : {last_item}')\n",
    "\n",
    "\n",
    "# remove\n",
    "\n",
    "\n",
    "\n",
    "\n",
    "# print(myCourses)\n",
    "\n",
    "# myCourses.remove(\"kotlin\")\n",
    "\n",
    "# print(myCourses)"
   ]
  },
  {
   "cell_type": "code",
   "execution_count": 16,
   "id": "1fbb0b1b",
   "metadata": {},
   "outputs": [
    {
     "name": "stdout",
     "output_type": "stream",
     "text": [
      "<map object at 0x0000013D8A979670>\n",
      "[2, 4, 6, 8, 10]\n",
      "[]\n",
      "[2, 4, 6, 8, 10]\n",
      "['ALIREZA', 'MOHAMMAD', 'SARA', 'IMAN', 'ALI']\n",
      "['ghanbari', 'moradi', 'mdaeni']\n",
      "['ghanbari', 'moradi', 'mdaeni']\n"
     ]
    }
   ],
   "source": [
    "# map\n",
    "\n",
    "numbers = [1, 2, 3, 4, 5]\n",
    "\n",
    "doubles = map(lambda x: x * 2, numbers)\n",
    "\n",
    "print(doubles)\n",
    "\n",
    "print(list(doubles))\n",
    "\n",
    "print(list(doubles))\n",
    "\n",
    "doubles = [2, 4, 6, 8, 10]\n",
    "\n",
    "doubles=[]\n",
    "\n",
    "for num in numbers:\n",
    "    doubles.append(num * 2)\n",
    "\n",
    "print(doubles)\n",
    "\n",
    "names = [\"alireza\", \"mohammad\", \"sara\", \"iman\", \"ali\"]\n",
    "\n",
    "upperNames = map(lambda name : name.upper(),names)\n",
    "\n",
    "print(list(upperNames))\n",
    "\n",
    "\n",
    "people=[\n",
    "    {'name':'alireza','family':'ghanbari','age':33},\n",
    "    {'name':'sara','family':'moradi','age':25},\n",
    "    {'name':'iman','family':'mdaeni','age':30}   \n",
    "]\n",
    "families = map(lambda person: person['family'],people)\n",
    "\n",
    "print(list(map(lambda person: person['family'],people)))\n",
    "\n",
    "\n",
    "\n",
    "families_2 = []\n",
    "\n",
    "for person in people:\n",
    "    families_2.append(person['family'])\n",
    "\n",
    "print(families_2)"
   ]
  },
  {
   "cell_type": "code",
   "execution_count": 17,
   "id": "e3a2732a",
   "metadata": {},
   "outputs": [
    {
     "name": "stdout",
     "output_type": "stream",
     "text": [
      "['ordookhani', 'moradi', 'madaeni']\n"
     ]
    }
   ],
   "source": [
    "# map\n",
    "\n",
    "# numbers = [1, 2, 3, 4, 5]\n",
    "\n",
    "# doubles =map(lambda x: x * 2,numbers)\n",
    "\n",
    "# print(doubles)\n",
    "\n",
    "# print(list(doubles))\n",
    "\n",
    "# print(list(doubles))\n",
    "\n",
    "# doubles = [2, 4, 6, 8, 10]\n",
    "\n",
    "# doubles = []\n",
    "\n",
    "# for num in numbers:\n",
    "#     doubles.append(num * 2)\n",
    "\n",
    "# print(doubles)\n",
    "\n",
    "names = [\"mohammad\", \"sara\", \"iman\", \"ali\"]\n",
    "\n",
    "upperNames = map(lambda name:name.upper(),names)\n",
    "\n",
    "# print(list(upperNames))\n",
    "\n",
    "\n",
    "people = [\n",
    "    {'name': 'mohammad', 'family': 'ordookhani', 'age': 25},\n",
    "    {'name': 'sara', 'family': 'moradi', 'age': 23},\n",
    "    {'name': 'iman', 'family': 'madaeni', 'age': 30}\n",
    "]\n",
    "\n",
    "# families = map(lambda person: person['family'],people)\n",
    "\n",
    "\n",
    "print(list(map(lambda person: person['family'],people)))\n",
    "\n",
    "# families_2 = []\n",
    "\n",
    "# for preson in people :\n",
    "#     families_2.append(preson['family'])\n",
    "\n",
    "# print(families_2)\n"
   ]
  },
  {
   "cell_type": "code",
   "execution_count": 19,
   "id": "9e778a06",
   "metadata": {},
   "outputs": [
    {
     "name": "stdout",
     "output_type": "stream",
     "text": [
      "{'mohammad': 84.0, 'iman': 84.0, 'sara': 93.0}\n"
     ]
    }
   ],
   "source": [
    "# zip\n",
    "# numbers_1 = [1, 2, 3, 4, 5]\n",
    "# numbers_2 = [5, 6, 7, 8, 9, 10]\n",
    "\n",
    "# result = zip(numbers_1, numbers_2)\n",
    "\n",
    "# # print(list(result))\n",
    "# # print(dict(result))\n",
    "\n",
    "# myList = [(1, 5), (3, 7), (6, 4), (7, 9)]\n",
    "\n",
    "# print(list(zip(*myList)))\n",
    "\n",
    "\n",
    "students = [\"mohammad\", \"iman\", \"sara\"]\n",
    "midterm = [78, 80, 94]\n",
    "final = [90, 88, 92]\n",
    "\n",
    "# {\"mohammad\":90, \"iman\":88, \"sara\":94}\n",
    "\n",
    "# finalGrades =[pair for pair in zip(students,midterm,final)]\n",
    "\n",
    "finalGrsdes = {t[0]: max(t[1], t[2]) for t in zip(students, midterm, final)}\n",
    "\n",
    "average = zip(\n",
    "    students,\n",
    "    map(\n",
    "\n",
    "        lambda pair: (pair[0] + pair[1]) / 2,\n",
    "        zip(midterm, final)\n",
    "    )\n",
    ")\n",
    "\n",
    "print(dict(average))\n"
   ]
  }
 ],
 "metadata": {
  "kernelspec": {
   "display_name": "Python 3",
   "language": "python",
   "name": "python3"
  },
  "language_info": {
   "codemirror_mode": {
    "name": "ipython",
    "version": 3
   },
   "file_extension": ".py",
   "mimetype": "text/x-python",
   "name": "python",
   "nbconvert_exporter": "python",
   "pygments_lexer": "ipython3",
   "version": "3.8.8"
  }
 },
 "nbformat": 4,
 "nbformat_minor": 5
}
